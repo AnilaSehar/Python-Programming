{
 "cells": [
  {
   "cell_type": "code",
   "execution_count": 32,
   "metadata": {},
   "outputs": [
    {
     "name": "stdout",
     "output_type": "stream",
     "text": [
      "Enter marks you obtain in Mathematics: 68\n",
      "Enter marks you obtain in Chemistry: 98\n",
      "Enter marks you obtain in Physic: 75\n",
      "Enter marks you obtain in English: 65\n",
      "Enter marks you obtain in Urdu: 69\n",
      "Your total Percentage is:  90.0\n",
      "Your grade is: \n",
      "A+\n"
     ]
    }
   ],
   "source": [
    "m=int(input(\"Enter marks you obtain in Mathematics: \"))\n",
    "c=int(input(\"Enter marks you obtain in Chemistry: \"))\n",
    "p=int(input(\"Enter marks you obtain in Physic: \"))\n",
    "e=int(input(\"Enter marks you obtain in English: \"))\n",
    "u=int(input(\"Enter marks you obtain in Urdu: \"))\n",
    "per = ((m + p + c + p + e + u)/500 ) * 100\n",
    "print(\"Your total Percentage is: \",per)\n",
    "print(\"Your grade is: \")\n",
    "if per >= 80 and per <=100 :\n",
    "    print(\"A+\")\n",
    "elif per >= 70 and per < 80 :\n",
    "    print(\"A\")\n",
    "elif per >= 60 and per < 70 :\n",
    "    print (\"B\")\n",
    "elif per >= 0 and per < 60 :\n",
    "    print(\"Fail\")\n",
    "else :\n",
    "    print(\"you have given inappropiate %\")\n",
    "    \n"
   ]
  },
  {
   "cell_type": "code",
   "execution_count": 6,
   "metadata": {},
   "outputs": [
    {
     "name": "stdout",
     "output_type": "stream",
     "text": [
      "Enter your number here: 9\n",
      "odd\n"
     ]
    }
   ],
   "source": [
    "num = int(input(\"Enter your number here: \"))\n",
    "if num % 2 == 0:\n",
    " print(\"even\")\n",
    "else :\n",
    " print(\"odd\")\n"
   ]
  },
  {
   "cell_type": "code",
   "execution_count": 13,
   "metadata": {},
   "outputs": [
    {
     "name": "stdout",
     "output_type": "stream",
     "text": [
      "4\n"
     ]
    }
   ],
   "source": [
    "arr = [\"no\",\"yes\",\"if\",\"else\"]\n",
    "print(len(arr))"
   ]
  },
  {
   "cell_type": "code",
   "execution_count": 18,
   "metadata": {},
   "outputs": [
    {
     "name": "stdout",
     "output_type": "stream",
     "text": [
      "9\n"
     ]
    }
   ],
   "source": [
    "arr1 =[2,3,4]\n",
    "print(sum(arr1))"
   ]
  },
  {
   "cell_type": "code",
   "execution_count": 30,
   "metadata": {},
   "outputs": [
    {
     "name": "stdout",
     "output_type": "stream",
     "text": [
      "Largest number in list:  988\n"
     ]
    }
   ],
   "source": [
    "array = [10,90,145,23,56,125,988]\n",
    "array.sort()\n",
    "print(\"Largest number in list: \",array[-1])"
   ]
  },
  {
   "cell_type": "code",
   "execution_count": 31,
   "metadata": {},
   "outputs": [
    {
     "name": "stdout",
     "output_type": "stream",
     "text": [
      "1\n",
      "1\n",
      "2\n",
      "3\n"
     ]
    }
   ],
   "source": [
    "a = [1, 1, 2, 3, 5, 8, 13, 21, 34, 55, 89]\n",
    "for i in a:\n",
    "    if i < 5 :\n",
    "        print(i)"
   ]
  },
  {
   "cell_type": "code",
   "execution_count": null,
   "metadata": {},
   "outputs": [],
   "source": []
  }
 ],
 "metadata": {
  "kernelspec": {
   "display_name": "Python 3",
   "language": "python",
   "name": "python3"
  },
  "language_info": {
   "codemirror_mode": {
    "name": "ipython",
    "version": 3
   },
   "file_extension": ".py",
   "mimetype": "text/x-python",
   "name": "python",
   "nbconvert_exporter": "python",
   "pygments_lexer": "ipython3",
   "version": "3.7.4"
  }
 },
 "nbformat": 4,
 "nbformat_minor": 2
}
