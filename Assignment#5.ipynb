{
 "cells": [
  {
   "cell_type": "code",
   "execution_count": 3,
   "metadata": {},
   "outputs": [
    {
     "name": "stdout",
     "output_type": "stream",
     "text": [
      "Enter value for factorial: 4\n",
      "24\n"
     ]
    }
   ],
   "source": [
    "def fact(a):\n",
    "    if a==0:\n",
    "        return 1\n",
    "    else :\n",
    "        return a * fact(a-1)\n",
    "a = int(input(\"Enter value for factorial: \")) \n",
    "print(fact(a))"
   ]
  },
  {
   "cell_type": "code",
   "execution_count": 17,
   "metadata": {},
   "outputs": [
    {
     "name": "stdout",
     "output_type": "stream",
     "text": [
      "The sentecnce is : My Name is Anila Sehar\n",
      "The upper letters are:  4\n",
      "The lower letters are:  14\n"
     ]
    }
   ],
   "source": [
    "def string(s):\n",
    "    d={\"UPPER_CASE\":0, \"LOWER_CASE\":0}\n",
    "    for c in s:\n",
    "        if c.isupper():\n",
    "            d[\"UPPER_CASE\"]+=1\n",
    "        elif c.islower():\n",
    "             d[\"LOWER_CASE\"]+=1\n",
    "        else:\n",
    "             pass\n",
    "    print(\"The sentecnce is :\",s)\n",
    "    print(\"The upper letters are: \",d[\"UPPER_CASE\"])\n",
    "    print(\"The lower letters are: \",d[\"LOWER_CASE\"])\n",
    "    \n",
    "string('My Name is Anila Sehar')"
   ]
  },
  {
   "cell_type": "code",
   "execution_count": 32,
   "metadata": {},
   "outputs": [
    {
     "name": "stdout",
     "output_type": "stream",
     "text": [
      "[2]\n"
     ]
    }
   ],
   "source": [
    "def is_even_num(l):\n",
    "    even = []\n",
    "    for n in l :\n",
    "        if n % 2== 0 :\n",
    "           even.append(n)\n",
    "           return even\n",
    "print(is_even_num([1,2,3,4,5,6,7,8,9]))"
   ]
  },
  {
   "cell_type": "code",
   "execution_count": 7,
   "metadata": {},
   "outputs": [
    {
     "name": "stdout",
     "output_type": "stream",
     "text": [
      "True\n"
     ]
    }
   ],
   "source": [
    "def Palindrome(string):\n",
    "    left = 0\n",
    "    right = len(string) - 1\n",
    "    \n",
    "    while right >= left:\n",
    "        if not string[left] == string[right]:\n",
    "            return False\n",
    "        left += 1\n",
    "        right -= 1\n",
    "        return True\n",
    "print(Palindrome('madam'))"
   ]
  },
  {
   "cell_type": "code",
   "execution_count": 20,
   "metadata": {},
   "outputs": [
    {
     "name": "stdout",
     "output_type": "stream",
     "text": [
      "True\n"
     ]
    }
   ],
   "source": [
    "def prime(n):\n",
    "    if (n==1):\n",
    "        return False\n",
    "    elif(n==2):\n",
    "        return True;\n",
    "    else:\n",
    "        for x in range(2,n):\n",
    "            if(n% x== 0):\n",
    "                return False\n",
    "            return True\n",
    "print(prime(9))"
   ]
  },
  {
   "cell_type": "code",
   "execution_count": null,
   "metadata": {},
   "outputs": [],
   "source": []
  }
 ],
 "metadata": {
  "kernelspec": {
   "display_name": "Python 3",
   "language": "python",
   "name": "python3"
  },
  "language_info": {
   "codemirror_mode": {
    "name": "ipython",
    "version": 3
   },
   "file_extension": ".py",
   "mimetype": "text/x-python",
   "name": "python",
   "nbconvert_exporter": "python",
   "pygments_lexer": "ipython3",
   "version": "3.7.4"
  }
 },
 "nbformat": 4,
 "nbformat_minor": 2
}
